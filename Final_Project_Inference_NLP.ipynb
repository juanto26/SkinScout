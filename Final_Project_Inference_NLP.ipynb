{
 "cells": [
  {
   "cell_type": "markdown",
   "metadata": {},
   "source": [
    "# Final Project | `Skin-Scout`\n",
    "\n",
    "Batch        : FTDS-BSD-006\n",
    "\n",
    "Group        : 3\n",
    "\n",
    "Team members : \n",
    "- Achmad Abdillah Ghifari : Data Analyst\n",
    "- Celine Clarissa         : Data Scientist\n",
    "- Evan Juanto             : Data Engineer\n",
    "\n",
    "HuggingFace      : [Skin-Scout Deployment Link](https://huggingface.co/spaces/celineclarissa/Skin-Scout)\n",
    "\n",
    "Original Dataset : [Original Dataset Link](https://www.kaggle.com/datasets/teejmahal20/airline-passenger-satisfaction/data)\n",
    "\n",
    "Team GitHub      : [GitHub Link](https://github.com/juanto26/p2-final-project-skinscout)\n",
    "\n",
    "---\n",
    "---\n",
    "\n",
    "## i. Introduction\n",
    "\n",
    "Before we start loading the data, we must define the background and problem statement that can help us answer the problems in the data. In this introduction part, the background will explain why we are using this dataset and the problem statement will explain what problem we want to solve in the data.\n",
    "\n",
    "### i.1. Background\n",
    "\n",
    "The current skincare market is flooded with countless products each with unique ingredients and highlights. Consumers often struggle to decide which product most consumer recommend due to the large amount of reviews for each different products, making reading to all the review traditionally wasting too much time and effort. While other metrics such as star rating is present on most skincare website, relying on only star rating to rate the quality of a product is unreliable as research has shown that star rating has many problem such as negativity bias where one negative aspect could lead to users leading a low star despite excelling in other area and also sometime the review and star a user give has discreptancy with some research finding only a moderate correlation between review and star rating. Hence, consumers are left to go through multiple reviews in order to get an accurate insight regarding certain skincare product. Due to this factor our teams goal is to create an application where we could make this process easier by finding out whether a certain user will recommend or not recommend a product based on their review.\n",
    "\n",
    "### i.2. Problem Statement and Objective\n",
    "\n",
    "We want to create an application that utilizes Natural Language Processing (NLP) and a recommender system in order to help predict whether a customer will recommend a product or not and also to give recommendation of similar skincare product. Our goal is to create a model with an accuracy of 80%. This is done by using model such as SVC and cosine similarity in order to create the model. By creating this model, our objective is to make the process of finding the perfect skincare product more time-efficient and less frustrating.\n",
    "\n",
    "---\n",
    "---\n",
    "\n",
    "## ii. Import Libraries and Model\n",
    "\n",
    "The following are the libraries used in our group's Review Classification (NLP) model inference. We will also use the model that was previously saved in file `Final_Project_NLP.ipynb`."
   ]
  },
  {
   "cell_type": "code",
   "execution_count": 21,
   "metadata": {},
   "outputs": [
    {
     "name": "stderr",
     "output_type": "stream",
     "text": [
      "[nltk_data] Downloading package stopwords to\n",
      "[nltk_data]     C:\\Users\\User\\AppData\\Roaming\\nltk_data...\n",
      "[nltk_data]   Package stopwords is already up-to-date!\n",
      "[nltk_data] Downloading package punkt to\n",
      "[nltk_data]     C:\\Users\\User\\AppData\\Roaming\\nltk_data...\n",
      "[nltk_data]   Package punkt is already up-to-date!\n",
      "[nltk_data] Downloading package wordnet to\n",
      "[nltk_data]     C:\\Users\\User\\AppData\\Roaming\\nltk_data...\n",
      "[nltk_data]   Package wordnet is already up-to-date!\n"
     ]
    }
   ],
   "source": [
    "# Import libraries\n",
    "import pandas as pd\n",
    "import re\n",
    "import pickle\n",
    "\n",
    "# Import for Feature Engineering\n",
    "import nltk\n",
    "nltk.download('stopwords')\n",
    "nltk.download('punkt')\n",
    "nltk.download('wordnet')\n",
    "from nltk.corpus import stopwords\n",
    "from nltk.stem import WordNetLemmatizer\n",
    "from nltk.tokenize import word_tokenize\n",
    "import warnings\n",
    "warnings.filterwarnings('ignore')\n",
    "warnings.filterwarnings('ignore')"
   ]
  },
  {
   "cell_type": "code",
   "execution_count": 22,
   "metadata": {},
   "outputs": [],
   "source": [
    "with open('Final_Project_Model_NLP.pkl', 'rb') as file_1:\n",
    "    Final_Project_Model_NLP = pickle.load(file_1)"
   ]
  },
  {
   "cell_type": "markdown",
   "metadata": {},
   "source": [
    "---\n",
    "---\n",
    "\n",
    "## iii. Preprocessing\n",
    "\n",
    "Now, we will define the function that will be used to preprocess text before inputting it into the model."
   ]
  },
  {
   "cell_type": "code",
   "execution_count": 23,
   "metadata": {},
   "outputs": [],
   "source": [
    "# Define stopwords\n",
    "stopwords_eng = stopwords.words('english')\n",
    "\n",
    "# Create text preprocessing function\n",
    "def text_preprocessing(text):\n",
    "  '''\n",
    "  This function is created to do text preprocessing: change text to lowercase, Remove numbers and punctuation symbols, Remove stopwords,\n",
    "  lemmatize text, and tokenize text. Text preprocessing can be done just by calling this function.\n",
    "  '''\n",
    "  # Change text to lowercase\n",
    "  text = text.lower()\n",
    "\n",
    "  # Remove numbers\n",
    "  text = re.sub(r'\\d+', '', text)\n",
    "\n",
    "  # Remove comma\n",
    "  text = text.replace(',', '')\n",
    "\n",
    "  # Remove period symbol\n",
    "  text = text.replace('.', '')\n",
    "\n",
    "  # Remove exclamation mark\n",
    "  text = text.replace('!', '')\n",
    "\n",
    "  # Remove question mark\n",
    "  text = text.replace('?', '')\n",
    "\n",
    "  # Remove quotation mark\n",
    "  text = text.replace('\"', '')\n",
    "  text = text.replace(\"'\", '')\n",
    "  text = text.replace('’', '')\n",
    "\n",
    "  # Remove hyphen\n",
    "  text = text.replace('-', ' ')\n",
    "  text = text.replace('—', ' ')\n",
    "\n",
    "  # Remove ampersand\n",
    "  text = text.replace('&', 'and')\n",
    "\n",
    "  # Remove whitespace\n",
    "  text = text.strip()\n",
    "\n",
    "  # Tokenization\n",
    "  tokens = word_tokenize(text)\n",
    "\n",
    "  # Remove stopwords\n",
    "  tokens = [word for word in tokens if word not in stopwords_eng]\n",
    "\n",
    "  # Lemmatization: minimize words with same or similar meaning\n",
    "  lemmatizer = WordNetLemmatizer()\n",
    "  tokens = [lemmatizer.lemmatize(word) for word in tokens]\n",
    "\n",
    "  # Combine tokens\n",
    "  text = ' '.join(tokens)\n",
    "\n",
    "  return text"
   ]
  },
  {
   "cell_type": "markdown",
   "metadata": {},
   "source": [
    "Then, data scientist will define dictionary to convert nominal to class name."
   ]
  },
  {
   "cell_type": "code",
   "execution_count": 24,
   "metadata": {},
   "outputs": [],
   "source": [
    "# Create class dictionary\n",
    "dict_class = {0: 'not recommended',\n",
    "              1: 'recommended'}"
   ]
  },
  {
   "cell_type": "markdown",
   "metadata": {},
   "source": [
    "---\n",
    "---\n",
    "\n",
    "## iv. Inference Data\n",
    "\n",
    "To test the model, we will use two different datas which are new, and the model has never been trained with. The first one is a review where the user recommends the product, and the second one is a review where the user doesn't recommend the product."
   ]
  },
  {
   "cell_type": "markdown",
   "metadata": {},
   "source": [
    "### iv.1. Recommended\n",
    "\n",
    "We will use the review of Facial Treatment Essence (Pitera Essence) by the brand SK-II from [byrdie.com](https://www.byrdie.com/sk-ii-pitera-facial-treatment-essence-review-5188402)."
   ]
  },
  {
   "cell_type": "code",
   "execution_count": 25,
   "metadata": {},
   "outputs": [
    {
     "data": {
      "text/html": [
       "<div>\n",
       "<style scoped>\n",
       "    .dataframe tbody tr th:only-of-type {\n",
       "        vertical-align: middle;\n",
       "    }\n",
       "\n",
       "    .dataframe tbody tr th {\n",
       "        vertical-align: top;\n",
       "    }\n",
       "\n",
       "    .dataframe thead th {\n",
       "        text-align: right;\n",
       "    }\n",
       "</style>\n",
       "<table border=\"1\" class=\"dataframe\">\n",
       "  <thead>\n",
       "    <tr style=\"text-align: right;\">\n",
       "      <th></th>\n",
       "      <th>product_name</th>\n",
       "      <th>brand_name</th>\n",
       "      <th>review_text</th>\n",
       "    </tr>\n",
       "  </thead>\n",
       "  <tbody>\n",
       "    <tr>\n",
       "      <th>0</th>\n",
       "      <td>Facial Treatment Essence (Pitera Essence)</td>\n",
       "      <td>SK-II</td>\n",
       "      <td>Honestly, my skin feels more rejuvenated withi...</td>\n",
       "    </tr>\n",
       "  </tbody>\n",
       "</table>\n",
       "</div>"
      ],
      "text/plain": [
       "                                product_name brand_name  \\\n",
       "0  Facial Treatment Essence (Pitera Essence)      SK-II   \n",
       "\n",
       "                                         review_text  \n",
       "0  Honestly, my skin feels more rejuvenated withi...  "
      ]
     },
     "execution_count": 25,
     "metadata": {},
     "output_type": "execute_result"
    }
   ],
   "source": [
    "# create inference data\n",
    "inf_data = {'product_name': 'Facial Treatment Essence (Pitera Essence)',\n",
    "            'brand_name': 'SK-II',\n",
    "            'review_text': \"Honestly, my skin feels more rejuvenated within my first week of using SK-II's Pitera Facial Treatment Essence than it has all year, which is a complete win in my book. The brand claims that their essence will help your skin look and feel even brighter within 28 days, so I'll be continuing my use of this product to see the results for myself. Although SK-II's essence is priced higher than others on the market, the quality of their ingredients (and over 40 years of expertise in their field) lets them speak for themselves. If you're looking for a step to add to your skincare routine that is sure to revive your skin, no matter what type, look no further than SK-II\"}\n",
    "\n",
    "# put inference data into dataframe\n",
    "inf_data = pd.DataFrame(inf_data, index=[0])\n",
    "\n",
    "# show dataframe\n",
    "inf_data"
   ]
  },
  {
   "cell_type": "markdown",
   "metadata": {},
   "source": [
    "Then, we will use text_preprocessing function defined in steps above."
   ]
  },
  {
   "cell_type": "code",
   "execution_count": 26,
   "metadata": {},
   "outputs": [
    {
     "data": {
      "text/html": [
       "<div>\n",
       "<style scoped>\n",
       "    .dataframe tbody tr th:only-of-type {\n",
       "        vertical-align: middle;\n",
       "    }\n",
       "\n",
       "    .dataframe tbody tr th {\n",
       "        vertical-align: top;\n",
       "    }\n",
       "\n",
       "    .dataframe thead th {\n",
       "        text-align: right;\n",
       "    }\n",
       "</style>\n",
       "<table border=\"1\" class=\"dataframe\">\n",
       "  <thead>\n",
       "    <tr style=\"text-align: right;\">\n",
       "      <th></th>\n",
       "      <th>product_name</th>\n",
       "      <th>brand_name</th>\n",
       "      <th>review_text</th>\n",
       "      <th>text_processed</th>\n",
       "    </tr>\n",
       "  </thead>\n",
       "  <tbody>\n",
       "    <tr>\n",
       "      <th>0</th>\n",
       "      <td>Facial Treatment Essence (Pitera Essence)</td>\n",
       "      <td>SK-II</td>\n",
       "      <td>Honestly, my skin feels more rejuvenated withi...</td>\n",
       "      <td>honestly skin feel rejuvenated within first we...</td>\n",
       "    </tr>\n",
       "  </tbody>\n",
       "</table>\n",
       "</div>"
      ],
      "text/plain": [
       "                                product_name brand_name  \\\n",
       "0  Facial Treatment Essence (Pitera Essence)      SK-II   \n",
       "\n",
       "                                         review_text  \\\n",
       "0  Honestly, my skin feels more rejuvenated withi...   \n",
       "\n",
       "                                      text_processed  \n",
       "0  honestly skin feel rejuvenated within first we...  "
      ]
     },
     "execution_count": 26,
     "metadata": {},
     "output_type": "execute_result"
    }
   ],
   "source": [
    "inf_data['text_processed'] = inf_data['review_text'].apply(lambda x: text_preprocessing(x))\n",
    "inf_data"
   ]
  },
  {
   "cell_type": "code",
   "execution_count": 27,
   "metadata": {},
   "outputs": [
    {
     "name": "stdout",
     "output_type": "stream",
     "text": [
      "Based on your review, the product is recommended.\n"
     ]
    }
   ],
   "source": [
    "y_pred_inf = Final_Project_Model_NLP.predict(inf_data.text_processed)\n",
    "print(f'Based on your review, the product is {dict_class[int(y_pred_inf)]}.')"
   ]
  },
  {
   "cell_type": "markdown",
   "metadata": {},
   "source": [
    "From the results above, it can be seen that the model can classify the review as 'recommended' correctly."
   ]
  },
  {
   "cell_type": "markdown",
   "metadata": {},
   "source": [
    "---\n",
    "\n",
    "### vi.2. Not Recommended\n",
    "\n",
    "We will use the review of B-Hydra Intensive Hydration Serum with Hyaluronic Acid by the brand Drunk Elephant from [community.sephora.com](https://community.sephora.com/t5/Skincare-Aware/DO-NOT-BUY-DRUNK-ELEPHANT/m-p/6764331)."
   ]
  },
  {
   "cell_type": "code",
   "execution_count": 28,
   "metadata": {},
   "outputs": [
    {
     "data": {
      "text/html": [
       "<div>\n",
       "<style scoped>\n",
       "    .dataframe tbody tr th:only-of-type {\n",
       "        vertical-align: middle;\n",
       "    }\n",
       "\n",
       "    .dataframe tbody tr th {\n",
       "        vertical-align: top;\n",
       "    }\n",
       "\n",
       "    .dataframe thead th {\n",
       "        text-align: right;\n",
       "    }\n",
       "</style>\n",
       "<table border=\"1\" class=\"dataframe\">\n",
       "  <thead>\n",
       "    <tr style=\"text-align: right;\">\n",
       "      <th></th>\n",
       "      <th>product_name</th>\n",
       "      <th>brand_name</th>\n",
       "      <th>review_text</th>\n",
       "    </tr>\n",
       "  </thead>\n",
       "  <tbody>\n",
       "    <tr>\n",
       "      <th>0</th>\n",
       "      <td>B-Hydra Intensive Hydration Serum with Hyaluro...</td>\n",
       "      <td>Drunk Elephant</td>\n",
       "      <td>Ok, so I was sucked into drunk elephants adver...</td>\n",
       "    </tr>\n",
       "  </tbody>\n",
       "</table>\n",
       "</div>"
      ],
      "text/plain": [
       "                                        product_name      brand_name  \\\n",
       "0  B-Hydra Intensive Hydration Serum with Hyaluro...  Drunk Elephant   \n",
       "\n",
       "                                         review_text  \n",
       "0  Ok, so I was sucked into drunk elephants adver...  "
      ]
     },
     "execution_count": 28,
     "metadata": {},
     "output_type": "execute_result"
    }
   ],
   "source": [
    "# create inference data\n",
    "inf_data = {'product_name': 'B-Hydra Intensive Hydration Serum with Hyaluronic Acid',\n",
    "            'brand_name': 'Drunk Elephant',\n",
    "            'review_text': \"Ok, so I was sucked into drunk elephants advertising and aesthetic packaging. It was all over TikTok, YouTube, instagram, you name it. I decided that since everyone was saying it was so good that I would try it. I bought the B-hydra intensive hydration serum. FIRST OF ALL: the price tag for this product was 50 dollars! Which in my opinion is a total rip- off. According to founder Tiffany Masterton, she said it was safe for all skin. She believes in the “ suspicious 6” which is totally not true. Coming from a woman who doesn’t even wash her face every day!! I used this and tested it on a small portion of my skin to make sure it was safe. I woke up to that part of skin inflamed and covered with bumps. I immediately returned the product and got my money back. This is a warning for everyone who is interested in buying drunk elephant. DONT WASTE YOUR TIME OR MONEY!!! Even if this product works well on your skin I think it is not work the price. I found the perfect dupe, ordinary B5 hyaluronic acid serum which is only 8 dollars and still delivers hydration to your face. In conclusion, this whole drunk elephant is a scam and is just a brand that was over hyped by popular influencers. I hope I saved you all from wasting your money!!! Happy shopping!!!\"}\n",
    "\n",
    "# put inference data into dataframe\n",
    "inf_data = pd.DataFrame(inf_data, index=[0])\n",
    "\n",
    "# show dataframe\n",
    "inf_data"
   ]
  },
  {
   "cell_type": "markdown",
   "metadata": {},
   "source": [
    "Then, we will use the text_preprocessing function defined in the steps above."
   ]
  },
  {
   "cell_type": "code",
   "execution_count": 29,
   "metadata": {},
   "outputs": [
    {
     "data": {
      "text/html": [
       "<div>\n",
       "<style scoped>\n",
       "    .dataframe tbody tr th:only-of-type {\n",
       "        vertical-align: middle;\n",
       "    }\n",
       "\n",
       "    .dataframe tbody tr th {\n",
       "        vertical-align: top;\n",
       "    }\n",
       "\n",
       "    .dataframe thead th {\n",
       "        text-align: right;\n",
       "    }\n",
       "</style>\n",
       "<table border=\"1\" class=\"dataframe\">\n",
       "  <thead>\n",
       "    <tr style=\"text-align: right;\">\n",
       "      <th></th>\n",
       "      <th>product_name</th>\n",
       "      <th>brand_name</th>\n",
       "      <th>review_text</th>\n",
       "      <th>text_processed</th>\n",
       "    </tr>\n",
       "  </thead>\n",
       "  <tbody>\n",
       "    <tr>\n",
       "      <th>0</th>\n",
       "      <td>B-Hydra Intensive Hydration Serum with Hyaluro...</td>\n",
       "      <td>Drunk Elephant</td>\n",
       "      <td>Ok, so I was sucked into drunk elephants adver...</td>\n",
       "      <td>ok sucked drunk elephant advertising aesthetic...</td>\n",
       "    </tr>\n",
       "  </tbody>\n",
       "</table>\n",
       "</div>"
      ],
      "text/plain": [
       "                                        product_name      brand_name  \\\n",
       "0  B-Hydra Intensive Hydration Serum with Hyaluro...  Drunk Elephant   \n",
       "\n",
       "                                         review_text  \\\n",
       "0  Ok, so I was sucked into drunk elephants adver...   \n",
       "\n",
       "                                      text_processed  \n",
       "0  ok sucked drunk elephant advertising aesthetic...  "
      ]
     },
     "execution_count": 29,
     "metadata": {},
     "output_type": "execute_result"
    }
   ],
   "source": [
    "inf_data['text_processed'] = inf_data['review_text'].apply(lambda x: text_preprocessing(x))\n",
    "inf_data"
   ]
  },
  {
   "cell_type": "code",
   "execution_count": 30,
   "metadata": {},
   "outputs": [
    {
     "name": "stdout",
     "output_type": "stream",
     "text": [
      "Based on your review, the product is not recommended.\n"
     ]
    }
   ],
   "source": [
    "y_pred_inf = Final_Project_Model_NLP.predict(inf_data.text_processed)\n",
    "print(f'Based on your review, the product is {dict_class[int(y_pred_inf)]}.')"
   ]
  },
  {
   "cell_type": "markdown",
   "metadata": {},
   "source": [
    "From the results above, it can be seen that the model can classify the review as 'not recommended' correctly."
   ]
  }
 ],
 "metadata": {
  "kernelspec": {
   "display_name": "base",
   "language": "python",
   "name": "python3"
  },
  "language_info": {
   "codemirror_mode": {
    "name": "ipython",
    "version": 3
   },
   "file_extension": ".py",
   "mimetype": "text/x-python",
   "name": "python",
   "nbconvert_exporter": "python",
   "pygments_lexer": "ipython3",
   "version": "3.11.7"
  }
 },
 "nbformat": 4,
 "nbformat_minor": 2
}
